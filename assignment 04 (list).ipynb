{
 "cells": [
  {
   "cell_type": "markdown",
   "id": "cb02c795-05d5-4bb7-9522-ab2184a2a087",
   "metadata": {},
   "source": [
    "### 1. Write a program that accepts a list from user and print the alternate element of list. \n"
   ]
  },
  {
   "cell_type": "code",
   "execution_count": 28,
   "id": "52451556-816e-46a4-bc83-8ed5c3aed345",
   "metadata": {},
   "outputs": [
    {
     "name": "stdin",
     "output_type": "stream",
     "text": [
      "enter your list:  10 20 40 50\n"
     ]
    },
    {
     "name": "stdout",
     "output_type": "stream",
     "text": [
      "10 30 50 "
     ]
    }
   ],
   "source": [
    "user = input ('enter your list: ')\n",
    "my_list = user_input.split()\n",
    "\n",
    "for i in range(0, len(my_list), 2):\n",
    "    print(my_list[i], end = ' ')\n",
    "\n"
   ]
  },
  {
   "cell_type": "markdown",
   "id": "b42009ae-676f-453c-b674-75773d260c22",
   "metadata": {},
   "source": [
    "### 2. Write a program that accepts a list from user. Your program should reverse the content of list and \n",
    "### display it. Do not use reverse() method.  "
   ]
  },
  {
   "cell_type": "code",
   "execution_count": 40,
   "id": "ae58a93c-eb1b-42b6-8c8e-4091980ae2f4",
   "metadata": {},
   "outputs": [
    {
     "name": "stdin",
     "output_type": "stream",
     "text": [
      "Enter a number:  1 2 3 4 5 \n"
     ]
    },
    {
     "name": "stdout",
     "output_type": "stream",
     "text": [
      "reversed_list:   5 4 3 2 1\n"
     ]
    }
   ],
   "source": [
    "user_input = input ('Enter a number: ')\n",
    "reversed_list = user_input [::-1]\n",
    "print ('reversed_list: ', reversed_list)"
   ]
  },
  {
   "cell_type": "markdown",
   "id": "5b6dd387-23a4-4a71-89a6-3b5d5938bae9",
   "metadata": {},
   "source": [
    "### 3. Find and display the largest number of a list without using built-in function max(). Your program \n",
    "### should ask the user to input values in list from keyboard.  "
   ]
  },
  {
   "cell_type": "code",
   "execution_count": 6,
   "id": "fb39a0c5-4a3e-4e4f-86e4-30fa0c10dcad",
   "metadata": {},
   "outputs": [
    {
     "name": "stdin",
     "output_type": "stream",
     "text": [
      "How many numbers you want to enter!  12\n",
      "Enter your number 23\n",
      "Enter your number 4\n",
      "Enter your number 43\n",
      "Enter your number 657\n",
      "Enter your number 565\n",
      "Enter your number 43\n",
      "Enter your number 5465\n",
      "Enter your number 353\n",
      "Enter your number 6766\n",
      "Enter your number 34\n",
      "Enter your number 67\n",
      "Enter your number 68\n"
     ]
    },
    {
     "name": "stdout",
     "output_type": "stream",
     "text": [
      "The largest number is  6766\n"
     ]
    }
   ],
   "source": [
    "numbers = []\n",
    "n = int (input('How many numbers you want to enter! '))\n",
    "for i in range (n):\n",
    "    num = int (input ('Enter your number'))\n",
    "    numbers.append (num)\n",
    "\n",
    "    largest = numbers [0]\n",
    "\n",
    "for num in numbers :\n",
    "    if num > largest:\n",
    "        largest = num\n",
    "\n",
    "\n",
    "print ('The largest number is ', largest)\n",
    "        \n",
    "\n"
   ]
  },
  {
   "cell_type": "markdown",
   "id": "d672ab5d-3c69-4ab6-a8e4-1a9b61c79fb2",
   "metadata": {},
   "source": [
    "### 4. Write a program that rotates the element of a list so that the element at the first index moves to the \n",
    "### second index, the element in the second index moves to the third index, etc., and the element in the last \n",
    "### index moves to the first index.  "
   ]
  },
  {
   "cell_type": "code",
   "execution_count": 21,
   "id": "8d4502b1-86a9-4d3c-afa8-14f4f5b88194",
   "metadata": {},
   "outputs": [
    {
     "name": "stdout",
     "output_type": "stream",
     "text": [
      "[60, 10, 20, 30, 40, 50]\n"
     ]
    }
   ],
   "source": [
    "lst = [10, 20, 30, 40, 50, 60]\n",
    "\n",
    "lst = [lst [-1]] + lst [:-1]\n",
    "print (lst)"
   ]
  },
  {
   "cell_type": "markdown",
   "id": "4824ef72-876a-436b-9537-6e3405be0188",
   "metadata": {},
   "source": [
    "### 5. Write a program that input a string and ask user to delete a given word from a string.  \n"
   ]
  },
  {
   "cell_type": "code",
   "execution_count": 25,
   "id": "e496f5ea-41b1-45b6-85eb-5f7963258915",
   "metadata": {},
   "outputs": [
    {
     "name": "stdin",
     "output_type": "stream",
     "text": [
      "Entre your sentence.  this is khilji\n",
      "Entre your deleting sentence.  khilji\n"
     ]
    },
    {
     "name": "stdout",
     "output_type": "stream",
     "text": [
      "this is \n"
     ]
    }
   ],
   "source": [
    "text = input ('Entre your sentence. ')\n",
    "\n",
    "word = input ('Entre your deleting sentence. ')\n",
    "\n",
    "new_text = (text.replace (word, ''))\n",
    "\n",
    "print (new_text)"
   ]
  },
  {
   "cell_type": "markdown",
   "id": "a3251089-9f25-4c00-87a8-9adadd8ff33b",
   "metadata": {},
   "source": [
    "### 6. Write a program that reads a string from the user containing a date in the form mm/dd/yyyy. It \n",
    "### should print the date in the form March 12, 2021. "
   ]
  },
  {
   "cell_type": "code",
   "execution_count": 26,
   "id": "96c84588-1fcf-4041-b989-28faa0d4d2f0",
   "metadata": {},
   "outputs": [
    {
     "name": "stdin",
     "output_type": "stream",
     "text": [
      "Enter date in mm/dd/yyyy format:  10/15/2025\n"
     ]
    },
    {
     "name": "stdout",
     "output_type": "stream",
     "text": [
      "October 15, 2025\n"
     ]
    }
   ],
   "source": [
    "date = input(\"Enter date in mm/dd/yyyy format: \")\n",
    "\n",
    "month, day, year = date.split('/')\n",
    "\n",
    "months = [\n",
    "    \"January\", \"February\", \"March\", \"April\", \"May\", \"June\",\n",
    "    \"July\", \"August\", \"September\", \"October\", \"November\", \"December\"\n",
    "]\n",
    "\n",
    "month_name = months[int(month) - 1]\n",
    "\n",
    "print(f\"{month_name} {int(day)}, {year}\")\n"
   ]
  },
  {
   "cell_type": "markdown",
   "id": "d847f63b-cef9-498d-96ed-c2b464d09cf3",
   "metadata": {},
   "source": [
    "### 7. Write a program with a function that accepts a string from keyboard and create a new string after \n",
    "### converting character of each word capitalized. For instance, if the sentence is \"stop and smell the roses.\" \n",
    "### the output should be \"Stop And Smell The Roses\""
   ]
  },
  {
   "cell_type": "code",
   "execution_count": 27,
   "id": "1d44bb05-e904-445c-ba06-cd02b018d19d",
   "metadata": {},
   "outputs": [
    {
     "name": "stdin",
     "output_type": "stream",
     "text": [
      "Enter a sentence:  stop and smell the roses.\n"
     ]
    },
    {
     "name": "stdout",
     "output_type": "stream",
     "text": [
      "Capitalized sentence: Stop And Smell The Roses.\n"
     ]
    }
   ],
   "source": [
    "def capitalize_words(sentence):\n",
    "    new_sentence = sentence.title()\n",
    "    return new_sentence\n",
    "\n",
    "text = input(\"Enter a sentence: \")\n",
    "result = capitalize_words(text)\n",
    "\n",
    "print(\"Capitalized sentence:\", result)\n"
   ]
  },
  {
   "cell_type": "markdown",
   "id": "052d35f9-d439-4651-adf0-bb63205f9afe",
   "metadata": {},
   "source": [
    "### 8. Find the sum of each row of matrix of size m x n. For example for the following matrix output will be \n",
    "### like this :\n",
    "### 2, 11, 7, 22\n",
    "### 5, 9, 2, 15\n",
    "### 8, 3, 10, 12\n"
   ]
  },
  {
   "cell_type": "code",
   "execution_count": 28,
   "id": "fb65e691-1e87-429e-995f-b95ad5ad8f07",
   "metadata": {},
   "outputs": [
    {
     "name": "stdout",
     "output_type": "stream",
     "text": [
      "Sum of row 1 = 42\n",
      "Sum of row 2 = 31\n",
      "Sum of row 3 = 33\n"
     ]
    }
   ],
   "source": [
    "matrix = [\n",
    "    [2, 11, 7, 22],\n",
    "    [5, 9, 2, 15],\n",
    "    [8, 3, 10, 12]\n",
    "]\n",
    "\n",
    "for i in range(len(matrix)):\n",
    "    row_sum = sum(matrix[i])\n",
    "    print(f\"Sum of row {i+1} = {row_sum}\")\n"
   ]
  },
  {
   "cell_type": "markdown",
   "id": "a0e71ccf-7a08-47c2-9a0a-99c02d365aee",
   "metadata": {},
   "source": [
    "### 9. Write a program to add two matrices of size n x m. \n"
   ]
  },
  {
   "cell_type": "code",
   "execution_count": null,
   "id": "8b785426-edd5-424a-bb7b-e93715da10e7",
   "metadata": {},
   "outputs": [],
   "source": [
    "A = [\n",
    "    [1, 2, 3],\n",
    "    [4, 5, 6]\n",
    "]\n",
    "\n",
    "B = [\n",
    "    [7, 8, 9],\n",
    "    [1, 2, 3]\n",
    "]\n",
    "\n",
    "# empty result matrix\n",
    "result = []\n",
    "\n",
    "# dono matrices add karna\n",
    "for i in range(len(A)):          # har row ke liye\n",
    "    row = []\n",
    "    for j in range(len(A[0])):   # har column ke liye\n",
    "        row.append(A[i][j] + B[i][j])\n",
    "    result.append(row)\n",
    "\n",
    "# result print karna\n",
    "print(\"Sum of two matrices:\")\n",
    "for r in result:\n",
    "    print(r)\n"
   ]
  }
 ],
 "metadata": {
  "kernelspec": {
   "display_name": "Python 3 (ipykernel)",
   "language": "python",
   "name": "python3"
  },
  "language_info": {
   "codemirror_mode": {
    "name": "ipython",
    "version": 3
   },
   "file_extension": ".py",
   "mimetype": "text/x-python",
   "name": "python",
   "nbconvert_exporter": "python",
   "pygments_lexer": "ipython3",
   "version": "3.13.5"
  }
 },
 "nbformat": 4,
 "nbformat_minor": 5
}
